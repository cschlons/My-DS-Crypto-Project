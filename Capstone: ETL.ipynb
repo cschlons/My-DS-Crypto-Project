{
    "cells": [
        {
            "cell_type": "code",
            "execution_count": 1,
            "metadata": {},
            "outputs": [],
            "source": "# The code was removed by Watson Studio for sharing."
        },
        {
            "cell_type": "markdown",
            "metadata": {},
            "source": "The Bitcoin dataset was gathered from CryptoDataDownload.com.\nData is gathered daily on the opening, closing, high and low prices for a day. It also recorded the volume of the currency traded."
        },
        {
            "cell_type": "code",
            "execution_count": 2,
            "metadata": {},
            "outputs": [
                {
                    "name": "stdout",
                    "output_type": "stream",
                    "text": "(2281, 8)\n"
                },
                {
                    "data": {
                        "text/html": "<div>\n<style scoped>\n    .dataframe tbody tr th:only-of-type {\n        vertical-align: middle;\n    }\n\n    .dataframe tbody tr th {\n        vertical-align: top;\n    }\n\n    .dataframe thead th {\n        text-align: right;\n    }\n</style>\n<table border=\"1\" class=\"dataframe\">\n  <thead>\n    <tr style=\"text-align: right;\">\n      <th></th>\n      <th>Unix</th>\n      <th>Date</th>\n      <th>Symbol</th>\n      <th>Open</th>\n      <th>High</th>\n      <th>Low</th>\n      <th>Close</th>\n      <th>Volume</th>\n    </tr>\n  </thead>\n  <tbody>\n    <tr>\n      <th>0</th>\n      <td>Created on 01-03-2022</td>\n      <td>https://www.CryptoDataDownload.com</td>\n      <td>NaN</td>\n      <td>NaN</td>\n      <td>NaN</td>\n      <td>NaN</td>\n      <td>NaN</td>\n      <td>NaN</td>\n    </tr>\n    <tr>\n      <th>1</th>\n      <td>Unix Timestamp</td>\n      <td>Date</td>\n      <td>Symbol</td>\n      <td>Open</td>\n      <td>High</td>\n      <td>Low</td>\n      <td>Close</td>\n      <td>Volume</td>\n    </tr>\n    <tr>\n      <th>2</th>\n      <td>1641096000000</td>\n      <td>2022-01-02 04:00:00</td>\n      <td>BTCUSD</td>\n      <td>47329.05</td>\n      <td>47997.09</td>\n      <td>46673.22</td>\n      <td>47149.31</td>\n      <td>459.54333612</td>\n    </tr>\n    <tr>\n      <th>3</th>\n      <td>1641009600000</td>\n      <td>2022-01-01 04:00:00</td>\n      <td>BTCUSD</td>\n      <td>46806.83</td>\n      <td>47961.28</td>\n      <td>46553.0</td>\n      <td>47329.05</td>\n      <td>565.40462685</td>\n    </tr>\n    <tr>\n      <th>4</th>\n      <td>1640923200000</td>\n      <td>2021-12-31 04:00:00</td>\n      <td>BTCUSD</td>\n      <td>47207.99</td>\n      <td>48578.35</td>\n      <td>45641.11</td>\n      <td>46806.83</td>\n      <td>1591.71255472</td>\n    </tr>\n  </tbody>\n</table>\n</div>",
                        "text/plain": "                    Unix                                Date  Symbol  \\\n0  Created on 01-03-2022  https://www.CryptoDataDownload.com     NaN   \n1         Unix Timestamp                                Date  Symbol   \n2          1641096000000                 2022-01-02 04:00:00  BTCUSD   \n3          1641009600000                 2022-01-01 04:00:00  BTCUSD   \n4          1640923200000                 2021-12-31 04:00:00  BTCUSD   \n\n       Open      High       Low     Close         Volume  \n0       NaN       NaN       NaN       NaN            NaN  \n1      Open      High       Low     Close         Volume  \n2  47329.05  47997.09  46673.22  47149.31   459.54333612  \n3  46806.83  47961.28   46553.0  47329.05   565.40462685  \n4  47207.99  48578.35  45641.11  46806.83  1591.71255472  "
                    },
                    "execution_count": 2,
                    "metadata": {},
                    "output_type": "execute_result"
                }
            ],
            "source": "print(df_btc.shape)\ndf_btc.head()"
        },
        {
            "cell_type": "markdown",
            "metadata": {},
            "source": "For the Tesla and NASDAQ data, I gathered this from Yahoo Finance. The Bitcoin data was accessible in hourly and minute increments, but the NASDAQ and Tesla data was not.\nThese datasets contain the same data as the Bitcoin data.\nThe reasoning for these two extra datasets is because I was curious if there is a relationship between the stock market and Bitcoin. I chose Tesla because of the Elon Musk and his social media use related to cryptocurrency."
        },
        {
            "cell_type": "code",
            "execution_count": 3,
            "metadata": {},
            "outputs": [
                {
                    "name": "stdout",
                    "output_type": "stream",
                    "text": "(2014, 7)\n"
                },
                {
                    "data": {
                        "text/html": "<div>\n<style scoped>\n    .dataframe tbody tr th:only-of-type {\n        vertical-align: middle;\n    }\n\n    .dataframe tbody tr th {\n        vertical-align: top;\n    }\n\n    .dataframe thead th {\n        text-align: right;\n    }\n</style>\n<table border=\"1\" class=\"dataframe\">\n  <thead>\n    <tr style=\"text-align: right;\">\n      <th></th>\n      <th>Date</th>\n      <th>Open</th>\n      <th>High</th>\n      <th>Low</th>\n      <th>Close</th>\n      <th>Adj Close</th>\n      <th>Volume</th>\n    </tr>\n  </thead>\n  <tbody>\n    <tr>\n      <th>0</th>\n      <td>2014-01-03</td>\n      <td>4148.560059</td>\n      <td>4152.959961</td>\n      <td>4124.959961</td>\n      <td>4131.910156</td>\n      <td>4131.910156</td>\n      <td>1667480000</td>\n    </tr>\n    <tr>\n      <th>1</th>\n      <td>2014-01-06</td>\n      <td>4137.029785</td>\n      <td>4139.779785</td>\n      <td>4103.750000</td>\n      <td>4113.680176</td>\n      <td>4113.680176</td>\n      <td>2292840000</td>\n    </tr>\n    <tr>\n      <th>2</th>\n      <td>2014-01-07</td>\n      <td>4128.569824</td>\n      <td>4158.180176</td>\n      <td>4126.479980</td>\n      <td>4153.180176</td>\n      <td>4153.180176</td>\n      <td>2278220000</td>\n    </tr>\n    <tr>\n      <th>3</th>\n      <td>2014-01-08</td>\n      <td>4154.279785</td>\n      <td>4171.750000</td>\n      <td>4145.000000</td>\n      <td>4165.609863</td>\n      <td>4165.609863</td>\n      <td>2345220000</td>\n    </tr>\n    <tr>\n      <th>4</th>\n      <td>2014-01-09</td>\n      <td>4179.040039</td>\n      <td>4182.740234</td>\n      <td>4142.700195</td>\n      <td>4156.189941</td>\n      <td>4156.189941</td>\n      <td>2214770000</td>\n    </tr>\n  </tbody>\n</table>\n</div>",
                        "text/plain": "         Date         Open         High          Low        Close  \\\n0  2014-01-03  4148.560059  4152.959961  4124.959961  4131.910156   \n1  2014-01-06  4137.029785  4139.779785  4103.750000  4113.680176   \n2  2014-01-07  4128.569824  4158.180176  4126.479980  4153.180176   \n3  2014-01-08  4154.279785  4171.750000  4145.000000  4165.609863   \n4  2014-01-09  4179.040039  4182.740234  4142.700195  4156.189941   \n\n     Adj Close      Volume  \n0  4131.910156  1667480000  \n1  4113.680176  2292840000  \n2  4153.180176  2278220000  \n3  4165.609863  2345220000  \n4  4156.189941  2214770000  "
                    },
                    "execution_count": 3,
                    "metadata": {},
                    "output_type": "execute_result"
                }
            ],
            "source": "print(df_nasdaq.shape)\ndf_nasdaq.head()"
        },
        {
            "cell_type": "code",
            "execution_count": 4,
            "metadata": {},
            "outputs": [
                {
                    "name": "stdout",
                    "output_type": "stream",
                    "text": "(2014, 7)\n"
                },
                {
                    "data": {
                        "text/html": "<div>\n<style scoped>\n    .dataframe tbody tr th:only-of-type {\n        vertical-align: middle;\n    }\n\n    .dataframe tbody tr th {\n        vertical-align: top;\n    }\n\n    .dataframe thead th {\n        text-align: right;\n    }\n</style>\n<table border=\"1\" class=\"dataframe\">\n  <thead>\n    <tr style=\"text-align: right;\">\n      <th></th>\n      <th>Date</th>\n      <th>Open</th>\n      <th>High</th>\n      <th>Low</th>\n      <th>Close</th>\n      <th>Adj Close</th>\n      <th>Volume</th>\n    </tr>\n  </thead>\n  <tbody>\n    <tr>\n      <th>0</th>\n      <td>2014-01-03</td>\n      <td>30.000</td>\n      <td>30.438000</td>\n      <td>29.719999</td>\n      <td>29.912001</td>\n      <td>29.912001</td>\n      <td>23475000</td>\n    </tr>\n    <tr>\n      <th>1</th>\n      <td>2014-01-06</td>\n      <td>30.000</td>\n      <td>30.080000</td>\n      <td>29.048000</td>\n      <td>29.400000</td>\n      <td>29.400000</td>\n      <td>26805500</td>\n    </tr>\n    <tr>\n      <th>2</th>\n      <td>2014-01-07</td>\n      <td>29.524</td>\n      <td>30.080000</td>\n      <td>29.049999</td>\n      <td>29.872000</td>\n      <td>29.872000</td>\n      <td>25170500</td>\n    </tr>\n    <tr>\n      <th>3</th>\n      <td>2014-01-08</td>\n      <td>29.770</td>\n      <td>30.740000</td>\n      <td>29.752001</td>\n      <td>30.256001</td>\n      <td>30.256001</td>\n      <td>30816000</td>\n    </tr>\n    <tr>\n      <th>4</th>\n      <td>2014-01-09</td>\n      <td>30.500</td>\n      <td>30.686001</td>\n      <td>29.370001</td>\n      <td>29.506001</td>\n      <td>29.506001</td>\n      <td>26910000</td>\n    </tr>\n  </tbody>\n</table>\n</div>",
                        "text/plain": "         Date    Open       High        Low      Close  Adj Close    Volume\n0  2014-01-03  30.000  30.438000  29.719999  29.912001  29.912001  23475000\n1  2014-01-06  30.000  30.080000  29.048000  29.400000  29.400000  26805500\n2  2014-01-07  29.524  30.080000  29.049999  29.872000  29.872000  25170500\n3  2014-01-08  29.770  30.740000  29.752001  30.256001  30.256001  30816000\n4  2014-01-09  30.500  30.686001  29.370001  29.506001  29.506001  26910000"
                    },
                    "execution_count": 4,
                    "metadata": {},
                    "output_type": "execute_result"
                }
            ],
            "source": "print(df_tesla.shape)\ndf_tesla.head()"
        },
        {
            "cell_type": "markdown",
            "metadata": {},
            "source": "This dataset is recorded whether or not there was a natural disaster in the USA on a given day. I acquired this dataset from Kaggle.\nI chose this dataset to add because I wanted to know if there was a relationship between natural disasters and whether or not people buy more or less of stocks/cryptocurrency."
        },
        {
            "cell_type": "code",
            "execution_count": 5,
            "metadata": {},
            "outputs": [
                {
                    "name": "stdout",
                    "output_type": "stream",
                    "text": "(62702, 22)\n"
                },
                {
                    "data": {
                        "text/html": "<div>\n<style scoped>\n    .dataframe tbody tr th:only-of-type {\n        vertical-align: middle;\n    }\n\n    .dataframe tbody tr th {\n        vertical-align: top;\n    }\n\n    .dataframe thead th {\n        text-align: right;\n    }\n</style>\n<table border=\"1\" class=\"dataframe\">\n  <thead>\n    <tr style=\"text-align: right;\">\n      <th></th>\n      <th>fema_declaration_string</th>\n      <th>disaster_number</th>\n      <th>state</th>\n      <th>declaration_type</th>\n      <th>declaration_date</th>\n      <th>fy_declared</th>\n      <th>incident_type</th>\n      <th>declaration_title</th>\n      <th>ih_program_declared</th>\n      <th>ia_program_declared</th>\n      <th>...</th>\n      <th>incident_begin_date</th>\n      <th>incident_end_date</th>\n      <th>disaster_closeout_date</th>\n      <th>fips</th>\n      <th>place_code</th>\n      <th>designated_area</th>\n      <th>declaration_request_number</th>\n      <th>hash</th>\n      <th>last_refresh</th>\n      <th>id</th>\n    </tr>\n  </thead>\n  <tbody>\n    <tr>\n      <th>0</th>\n      <td>DR-1-GA</td>\n      <td>1</td>\n      <td>GA</td>\n      <td>DR</td>\n      <td>1953-05-02T00:00:00Z</td>\n      <td>1953</td>\n      <td>Tornado</td>\n      <td>Tornado</td>\n      <td>0</td>\n      <td>1</td>\n      <td>...</td>\n      <td>1953-05-02T00:00:00Z</td>\n      <td>1953-05-02T00:00:00Z</td>\n      <td>1954-06-01T00:00:00Z</td>\n      <td>13000</td>\n      <td>0</td>\n      <td>Statewide</td>\n      <td>53013</td>\n      <td>bb121323c9c29d3bef0c9a3f134bfd8b5ecff148</td>\n      <td>2021-07-13T23:01:19Z</td>\n      <td>60c3b7a9a0ee349d71025780</td>\n    </tr>\n    <tr>\n      <th>1</th>\n      <td>DR-2-TX</td>\n      <td>2</td>\n      <td>TX</td>\n      <td>DR</td>\n      <td>1953-05-15T00:00:00Z</td>\n      <td>1953</td>\n      <td>Tornado</td>\n      <td>Tornado &amp; Heavy Rainfall</td>\n      <td>0</td>\n      <td>1</td>\n      <td>...</td>\n      <td>1953-05-15T00:00:00Z</td>\n      <td>1953-05-15T00:00:00Z</td>\n      <td>1958-01-01T00:00:00Z</td>\n      <td>48000</td>\n      <td>0</td>\n      <td>Statewide</td>\n      <td>53003</td>\n      <td>c879557e78d059e6847e7688388c339d10f51979</td>\n      <td>2021-07-13T23:01:19Z</td>\n      <td>60c3b7a9a0ee349d71025783</td>\n    </tr>\n    <tr>\n      <th>2</th>\n      <td>DR-3-LA</td>\n      <td>3</td>\n      <td>LA</td>\n      <td>DR</td>\n      <td>1953-05-29T00:00:00Z</td>\n      <td>1953</td>\n      <td>Flood</td>\n      <td>Flood</td>\n      <td>0</td>\n      <td>1</td>\n      <td>...</td>\n      <td>1953-05-29T00:00:00Z</td>\n      <td>1953-05-29T00:00:00Z</td>\n      <td>1960-02-01T00:00:00Z</td>\n      <td>22000</td>\n      <td>0</td>\n      <td>Statewide</td>\n      <td>53005</td>\n      <td>4fb19699fdbba1387ffa2263fcc4a4e37a1de6d6</td>\n      <td>2021-07-13T23:01:19Z</td>\n      <td>60c3b7a9a0ee349d71025777</td>\n    </tr>\n    <tr>\n      <th>3</th>\n      <td>DR-4-MI</td>\n      <td>4</td>\n      <td>MI</td>\n      <td>DR</td>\n      <td>1953-06-02T00:00:00Z</td>\n      <td>1953</td>\n      <td>Tornado</td>\n      <td>Tornado</td>\n      <td>0</td>\n      <td>1</td>\n      <td>...</td>\n      <td>1953-06-02T00:00:00Z</td>\n      <td>1953-06-02T00:00:00Z</td>\n      <td>1956-02-01T00:00:00Z</td>\n      <td>26000</td>\n      <td>0</td>\n      <td>Statewide</td>\n      <td>53004</td>\n      <td>87a0c1dd5da249767f545e0c0a43f917e4e9ca83</td>\n      <td>2021-07-13T23:01:19Z</td>\n      <td>60c3b7a9a0ee349d7102577a</td>\n    </tr>\n    <tr>\n      <th>4</th>\n      <td>DR-5-MT</td>\n      <td>5</td>\n      <td>MT</td>\n      <td>DR</td>\n      <td>1953-06-06T00:00:00Z</td>\n      <td>1953</td>\n      <td>Flood</td>\n      <td>Floods</td>\n      <td>0</td>\n      <td>1</td>\n      <td>...</td>\n      <td>1953-06-06T00:00:00Z</td>\n      <td>1953-06-06T00:00:00Z</td>\n      <td>1955-12-01T00:00:00Z</td>\n      <td>30000</td>\n      <td>0</td>\n      <td>Statewide</td>\n      <td>53006</td>\n      <td>954449c15634fb45c8bea3ac975782793ccde050</td>\n      <td>2021-07-13T23:01:19Z</td>\n      <td>60c3b7a9a0ee349d71025774</td>\n    </tr>\n  </tbody>\n</table>\n<p>5 rows \u00d7 22 columns</p>\n</div>",
                        "text/plain": "  fema_declaration_string  disaster_number state declaration_type  \\\n0                 DR-1-GA                1    GA               DR   \n1                 DR-2-TX                2    TX               DR   \n2                 DR-3-LA                3    LA               DR   \n3                 DR-4-MI                4    MI               DR   \n4                 DR-5-MT                5    MT               DR   \n\n       declaration_date  fy_declared incident_type         declaration_title  \\\n0  1953-05-02T00:00:00Z         1953       Tornado                   Tornado   \n1  1953-05-15T00:00:00Z         1953       Tornado  Tornado & Heavy Rainfall   \n2  1953-05-29T00:00:00Z         1953         Flood                     Flood   \n3  1953-06-02T00:00:00Z         1953       Tornado                   Tornado   \n4  1953-06-06T00:00:00Z         1953         Flood                    Floods   \n\n   ih_program_declared  ia_program_declared  ...   incident_begin_date  \\\n0                    0                    1  ...  1953-05-02T00:00:00Z   \n1                    0                    1  ...  1953-05-15T00:00:00Z   \n2                    0                    1  ...  1953-05-29T00:00:00Z   \n3                    0                    1  ...  1953-06-02T00:00:00Z   \n4                    0                    1  ...  1953-06-06T00:00:00Z   \n\n      incident_end_date disaster_closeout_date   fips place_code  \\\n0  1953-05-02T00:00:00Z   1954-06-01T00:00:00Z  13000          0   \n1  1953-05-15T00:00:00Z   1958-01-01T00:00:00Z  48000          0   \n2  1953-05-29T00:00:00Z   1960-02-01T00:00:00Z  22000          0   \n3  1953-06-02T00:00:00Z   1956-02-01T00:00:00Z  26000          0   \n4  1953-06-06T00:00:00Z   1955-12-01T00:00:00Z  30000          0   \n\n   designated_area  declaration_request_number  \\\n0        Statewide                       53013   \n1        Statewide                       53003   \n2        Statewide                       53005   \n3        Statewide                       53004   \n4        Statewide                       53006   \n\n                                       hash          last_refresh  \\\n0  bb121323c9c29d3bef0c9a3f134bfd8b5ecff148  2021-07-13T23:01:19Z   \n1  c879557e78d059e6847e7688388c339d10f51979  2021-07-13T23:01:19Z   \n2  4fb19699fdbba1387ffa2263fcc4a4e37a1de6d6  2021-07-13T23:01:19Z   \n3  87a0c1dd5da249767f545e0c0a43f917e4e9ca83  2021-07-13T23:01:19Z   \n4  954449c15634fb45c8bea3ac975782793ccde050  2021-07-13T23:01:19Z   \n\n                         id  \n0  60c3b7a9a0ee349d71025780  \n1  60c3b7a9a0ee349d71025783  \n2  60c3b7a9a0ee349d71025777  \n3  60c3b7a9a0ee349d7102577a  \n4  60c3b7a9a0ee349d71025774  \n\n[5 rows x 22 columns]"
                    },
                    "execution_count": 5,
                    "metadata": {},
                    "output_type": "execute_result"
                }
            ],
            "source": "print(df_disaster.shape)\ndf_disaster.head()"
        }
    ],
    "metadata": {
        "kernelspec": {
            "display_name": "Python 3.7",
            "language": "python",
            "name": "python3"
        },
        "language_info": {
            "codemirror_mode": {
                "name": "ipython",
                "version": 3
            },
            "file_extension": ".py",
            "mimetype": "text/x-python",
            "name": "python",
            "nbconvert_exporter": "python",
            "pygments_lexer": "ipython3",
            "version": "3.7.11"
        }
    },
    "nbformat": 4,
    "nbformat_minor": 1
}