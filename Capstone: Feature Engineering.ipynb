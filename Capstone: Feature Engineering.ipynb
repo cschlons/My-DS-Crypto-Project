{
    "cells": [
        {
            "cell_type": "code",
            "execution_count": 77,
            "metadata": {},
            "outputs": [],
            "source": "# The code was removed by Watson Studio for sharing."
        },
        {
            "cell_type": "markdown",
            "metadata": {},
            "source": "For the next few lines of code, I showed the datasets that I had. Then I dropped unnecessary columns."
        },
        {
            "cell_type": "code",
            "execution_count": 78,
            "metadata": {},
            "outputs": [],
            "source": "df_btc.drop([0,1], inplace=True)\ndf_btc.reset_index(inplace=True)\ndf_btc.drop(columns=['index', 'Unix', 'High', 'Low', 'Symbol'], inplace=True)\ndf_btc.rename(columns={'Open': 'BTC Open', 'Close': 'BTC Close', 'Volume': 'BTC Volume'}, inplace=True)\nfor i in range(df_btc.shape[0]):\n    df_btc['Date'][i] = df_btc['Date'][i][0:10]"
        },
        {
            "cell_type": "code",
            "execution_count": 79,
            "metadata": {},
            "outputs": [
                {
                    "name": "stdout",
                    "output_type": "stream",
                    "text": "(2279, 4)\n"
                },
                {
                    "data": {
                        "text/html": "<div>\n<style scoped>\n    .dataframe tbody tr th:only-of-type {\n        vertical-align: middle;\n    }\n\n    .dataframe tbody tr th {\n        vertical-align: top;\n    }\n\n    .dataframe thead th {\n        text-align: right;\n    }\n</style>\n<table border=\"1\" class=\"dataframe\">\n  <thead>\n    <tr style=\"text-align: right;\">\n      <th></th>\n      <th>Date</th>\n      <th>BTC Open</th>\n      <th>BTC Close</th>\n      <th>BTC Volume</th>\n    </tr>\n  </thead>\n  <tbody>\n    <tr>\n      <th>0</th>\n      <td>2022-01-02</td>\n      <td>47329.05</td>\n      <td>47149.31</td>\n      <td>459.54333612</td>\n    </tr>\n    <tr>\n      <th>1</th>\n      <td>2022-01-01</td>\n      <td>46806.83</td>\n      <td>47329.05</td>\n      <td>565.40462685</td>\n    </tr>\n    <tr>\n      <th>2</th>\n      <td>2021-12-31</td>\n      <td>47207.99</td>\n      <td>46806.83</td>\n      <td>1591.71255472</td>\n    </tr>\n    <tr>\n      <th>3</th>\n      <td>2021-12-30</td>\n      <td>46502.44</td>\n      <td>47207.99</td>\n      <td>998.41225028</td>\n    </tr>\n    <tr>\n      <th>4</th>\n      <td>2021-12-29</td>\n      <td>48017.93</td>\n      <td>46502.44</td>\n      <td>1119.62814235</td>\n    </tr>\n  </tbody>\n</table>\n</div>",
                        "text/plain": "         Date  BTC Open BTC Close     BTC Volume\n0  2022-01-02  47329.05  47149.31   459.54333612\n1  2022-01-01  46806.83  47329.05   565.40462685\n2  2021-12-31  47207.99  46806.83  1591.71255472\n3  2021-12-30  46502.44  47207.99   998.41225028\n4  2021-12-29  48017.93  46502.44  1119.62814235"
                    },
                    "execution_count": 79,
                    "metadata": {},
                    "output_type": "execute_result"
                }
            ],
            "source": "print(df_btc.shape)\ndf_btc.head()"
        },
        {
            "cell_type": "code",
            "execution_count": 80,
            "metadata": {},
            "outputs": [
                {
                    "name": "stdout",
                    "output_type": "stream",
                    "text": "(2014, 4)\n"
                },
                {
                    "data": {
                        "text/html": "<div>\n<style scoped>\n    .dataframe tbody tr th:only-of-type {\n        vertical-align: middle;\n    }\n\n    .dataframe tbody tr th {\n        vertical-align: top;\n    }\n\n    .dataframe thead th {\n        text-align: right;\n    }\n</style>\n<table border=\"1\" class=\"dataframe\">\n  <thead>\n    <tr style=\"text-align: right;\">\n      <th></th>\n      <th>Date</th>\n      <th>NASDAQ Open</th>\n      <th>NASDAQ Close</th>\n      <th>NASDAQ Volume</th>\n    </tr>\n  </thead>\n  <tbody>\n    <tr>\n      <th>0</th>\n      <td>2014-01-03</td>\n      <td>4148.560059</td>\n      <td>4131.910156</td>\n      <td>1667480000</td>\n    </tr>\n    <tr>\n      <th>1</th>\n      <td>2014-01-06</td>\n      <td>4137.029785</td>\n      <td>4113.680176</td>\n      <td>2292840000</td>\n    </tr>\n    <tr>\n      <th>2</th>\n      <td>2014-01-07</td>\n      <td>4128.569824</td>\n      <td>4153.180176</td>\n      <td>2278220000</td>\n    </tr>\n    <tr>\n      <th>3</th>\n      <td>2014-01-08</td>\n      <td>4154.279785</td>\n      <td>4165.609863</td>\n      <td>2345220000</td>\n    </tr>\n    <tr>\n      <th>4</th>\n      <td>2014-01-09</td>\n      <td>4179.040039</td>\n      <td>4156.189941</td>\n      <td>2214770000</td>\n    </tr>\n  </tbody>\n</table>\n</div>",
                        "text/plain": "         Date  NASDAQ Open  NASDAQ Close  NASDAQ Volume\n0  2014-01-03  4148.560059   4131.910156     1667480000\n1  2014-01-06  4137.029785   4113.680176     2292840000\n2  2014-01-07  4128.569824   4153.180176     2278220000\n3  2014-01-08  4154.279785   4165.609863     2345220000\n4  2014-01-09  4179.040039   4156.189941     2214770000"
                    },
                    "execution_count": 80,
                    "metadata": {},
                    "output_type": "execute_result"
                }
            ],
            "source": "df_nasdaq.drop(columns=['High', 'Low', 'Adj Close'], inplace=True)\ndf_nasdaq.rename(columns={'Open': 'NASDAQ Open', 'Close': 'NASDAQ Close', 'Volume': 'NASDAQ Volume'}, inplace=True)\nprint(df_nasdaq.shape)\ndf_nasdaq.head()"
        },
        {
            "cell_type": "code",
            "execution_count": 81,
            "metadata": {},
            "outputs": [
                {
                    "name": "stdout",
                    "output_type": "stream",
                    "text": "(2014, 4)\n"
                },
                {
                    "data": {
                        "text/html": "<div>\n<style scoped>\n    .dataframe tbody tr th:only-of-type {\n        vertical-align: middle;\n    }\n\n    .dataframe tbody tr th {\n        vertical-align: top;\n    }\n\n    .dataframe thead th {\n        text-align: right;\n    }\n</style>\n<table border=\"1\" class=\"dataframe\">\n  <thead>\n    <tr style=\"text-align: right;\">\n      <th></th>\n      <th>Date</th>\n      <th>TESLA Open</th>\n      <th>TESLA Close</th>\n      <th>TESLA Volume</th>\n    </tr>\n  </thead>\n  <tbody>\n    <tr>\n      <th>0</th>\n      <td>2014-01-03</td>\n      <td>30.000</td>\n      <td>29.912001</td>\n      <td>23475000</td>\n    </tr>\n    <tr>\n      <th>1</th>\n      <td>2014-01-06</td>\n      <td>30.000</td>\n      <td>29.400000</td>\n      <td>26805500</td>\n    </tr>\n    <tr>\n      <th>2</th>\n      <td>2014-01-07</td>\n      <td>29.524</td>\n      <td>29.872000</td>\n      <td>25170500</td>\n    </tr>\n    <tr>\n      <th>3</th>\n      <td>2014-01-08</td>\n      <td>29.770</td>\n      <td>30.256001</td>\n      <td>30816000</td>\n    </tr>\n    <tr>\n      <th>4</th>\n      <td>2014-01-09</td>\n      <td>30.500</td>\n      <td>29.506001</td>\n      <td>26910000</td>\n    </tr>\n  </tbody>\n</table>\n</div>",
                        "text/plain": "         Date  TESLA Open  TESLA Close  TESLA Volume\n0  2014-01-03      30.000    29.912001      23475000\n1  2014-01-06      30.000    29.400000      26805500\n2  2014-01-07      29.524    29.872000      25170500\n3  2014-01-08      29.770    30.256001      30816000\n4  2014-01-09      30.500    29.506001      26910000"
                    },
                    "execution_count": 81,
                    "metadata": {},
                    "output_type": "execute_result"
                }
            ],
            "source": "df_tesla.drop(columns=['High', 'Low', 'Adj Close'], inplace=True)\ndf_tesla.rename(columns={'Open': 'TESLA Open', 'Close': 'TESLA Close', 'Volume': 'TESLA Volume'}, inplace=True)\nprint(df_tesla.shape)\ndf_tesla.head()"
        },
        {
            "cell_type": "code",
            "execution_count": 82,
            "metadata": {},
            "outputs": [
                {
                    "name": "stdout",
                    "output_type": "stream",
                    "text": "(62702, 22)\n"
                },
                {
                    "data": {
                        "text/html": "<div>\n<style scoped>\n    .dataframe tbody tr th:only-of-type {\n        vertical-align: middle;\n    }\n\n    .dataframe tbody tr th {\n        vertical-align: top;\n    }\n\n    .dataframe thead th {\n        text-align: right;\n    }\n</style>\n<table border=\"1\" class=\"dataframe\">\n  <thead>\n    <tr style=\"text-align: right;\">\n      <th></th>\n      <th>fema_declaration_string</th>\n      <th>disaster_number</th>\n      <th>state</th>\n      <th>declaration_type</th>\n      <th>declaration_date</th>\n      <th>fy_declared</th>\n      <th>incident_type</th>\n      <th>declaration_title</th>\n      <th>ih_program_declared</th>\n      <th>ia_program_declared</th>\n      <th>...</th>\n      <th>incident_begin_date</th>\n      <th>incident_end_date</th>\n      <th>disaster_closeout_date</th>\n      <th>fips</th>\n      <th>place_code</th>\n      <th>designated_area</th>\n      <th>declaration_request_number</th>\n      <th>hash</th>\n      <th>last_refresh</th>\n      <th>id</th>\n    </tr>\n  </thead>\n  <tbody>\n    <tr>\n      <th>0</th>\n      <td>DR-1-GA</td>\n      <td>1</td>\n      <td>GA</td>\n      <td>DR</td>\n      <td>1953-05-02T00:00:00Z</td>\n      <td>1953</td>\n      <td>Tornado</td>\n      <td>Tornado</td>\n      <td>0</td>\n      <td>1</td>\n      <td>...</td>\n      <td>1953-05-02T00:00:00Z</td>\n      <td>1953-05-02T00:00:00Z</td>\n      <td>1954-06-01T00:00:00Z</td>\n      <td>13000</td>\n      <td>0</td>\n      <td>Statewide</td>\n      <td>53013</td>\n      <td>bb121323c9c29d3bef0c9a3f134bfd8b5ecff148</td>\n      <td>2021-07-13T23:01:19Z</td>\n      <td>60c3b7a9a0ee349d71025780</td>\n    </tr>\n    <tr>\n      <th>1</th>\n      <td>DR-2-TX</td>\n      <td>2</td>\n      <td>TX</td>\n      <td>DR</td>\n      <td>1953-05-15T00:00:00Z</td>\n      <td>1953</td>\n      <td>Tornado</td>\n      <td>Tornado &amp; Heavy Rainfall</td>\n      <td>0</td>\n      <td>1</td>\n      <td>...</td>\n      <td>1953-05-15T00:00:00Z</td>\n      <td>1953-05-15T00:00:00Z</td>\n      <td>1958-01-01T00:00:00Z</td>\n      <td>48000</td>\n      <td>0</td>\n      <td>Statewide</td>\n      <td>53003</td>\n      <td>c879557e78d059e6847e7688388c339d10f51979</td>\n      <td>2021-07-13T23:01:19Z</td>\n      <td>60c3b7a9a0ee349d71025783</td>\n    </tr>\n    <tr>\n      <th>2</th>\n      <td>DR-3-LA</td>\n      <td>3</td>\n      <td>LA</td>\n      <td>DR</td>\n      <td>1953-05-29T00:00:00Z</td>\n      <td>1953</td>\n      <td>Flood</td>\n      <td>Flood</td>\n      <td>0</td>\n      <td>1</td>\n      <td>...</td>\n      <td>1953-05-29T00:00:00Z</td>\n      <td>1953-05-29T00:00:00Z</td>\n      <td>1960-02-01T00:00:00Z</td>\n      <td>22000</td>\n      <td>0</td>\n      <td>Statewide</td>\n      <td>53005</td>\n      <td>4fb19699fdbba1387ffa2263fcc4a4e37a1de6d6</td>\n      <td>2021-07-13T23:01:19Z</td>\n      <td>60c3b7a9a0ee349d71025777</td>\n    </tr>\n    <tr>\n      <th>3</th>\n      <td>DR-4-MI</td>\n      <td>4</td>\n      <td>MI</td>\n      <td>DR</td>\n      <td>1953-06-02T00:00:00Z</td>\n      <td>1953</td>\n      <td>Tornado</td>\n      <td>Tornado</td>\n      <td>0</td>\n      <td>1</td>\n      <td>...</td>\n      <td>1953-06-02T00:00:00Z</td>\n      <td>1953-06-02T00:00:00Z</td>\n      <td>1956-02-01T00:00:00Z</td>\n      <td>26000</td>\n      <td>0</td>\n      <td>Statewide</td>\n      <td>53004</td>\n      <td>87a0c1dd5da249767f545e0c0a43f917e4e9ca83</td>\n      <td>2021-07-13T23:01:19Z</td>\n      <td>60c3b7a9a0ee349d7102577a</td>\n    </tr>\n    <tr>\n      <th>4</th>\n      <td>DR-5-MT</td>\n      <td>5</td>\n      <td>MT</td>\n      <td>DR</td>\n      <td>1953-06-06T00:00:00Z</td>\n      <td>1953</td>\n      <td>Flood</td>\n      <td>Floods</td>\n      <td>0</td>\n      <td>1</td>\n      <td>...</td>\n      <td>1953-06-06T00:00:00Z</td>\n      <td>1953-06-06T00:00:00Z</td>\n      <td>1955-12-01T00:00:00Z</td>\n      <td>30000</td>\n      <td>0</td>\n      <td>Statewide</td>\n      <td>53006</td>\n      <td>954449c15634fb45c8bea3ac975782793ccde050</td>\n      <td>2021-07-13T23:01:19Z</td>\n      <td>60c3b7a9a0ee349d71025774</td>\n    </tr>\n  </tbody>\n</table>\n<p>5 rows \u00d7 22 columns</p>\n</div>",
                        "text/plain": "  fema_declaration_string  disaster_number state declaration_type  \\\n0                 DR-1-GA                1    GA               DR   \n1                 DR-2-TX                2    TX               DR   \n2                 DR-3-LA                3    LA               DR   \n3                 DR-4-MI                4    MI               DR   \n4                 DR-5-MT                5    MT               DR   \n\n       declaration_date  fy_declared incident_type         declaration_title  \\\n0  1953-05-02T00:00:00Z         1953       Tornado                   Tornado   \n1  1953-05-15T00:00:00Z         1953       Tornado  Tornado & Heavy Rainfall   \n2  1953-05-29T00:00:00Z         1953         Flood                     Flood   \n3  1953-06-02T00:00:00Z         1953       Tornado                   Tornado   \n4  1953-06-06T00:00:00Z         1953         Flood                    Floods   \n\n   ih_program_declared  ia_program_declared  ...   incident_begin_date  \\\n0                    0                    1  ...  1953-05-02T00:00:00Z   \n1                    0                    1  ...  1953-05-15T00:00:00Z   \n2                    0                    1  ...  1953-05-29T00:00:00Z   \n3                    0                    1  ...  1953-06-02T00:00:00Z   \n4                    0                    1  ...  1953-06-06T00:00:00Z   \n\n      incident_end_date disaster_closeout_date   fips place_code  \\\n0  1953-05-02T00:00:00Z   1954-06-01T00:00:00Z  13000          0   \n1  1953-05-15T00:00:00Z   1958-01-01T00:00:00Z  48000          0   \n2  1953-05-29T00:00:00Z   1960-02-01T00:00:00Z  22000          0   \n3  1953-06-02T00:00:00Z   1956-02-01T00:00:00Z  26000          0   \n4  1953-06-06T00:00:00Z   1955-12-01T00:00:00Z  30000          0   \n\n   designated_area  declaration_request_number  \\\n0        Statewide                       53013   \n1        Statewide                       53003   \n2        Statewide                       53005   \n3        Statewide                       53004   \n4        Statewide                       53006   \n\n                                       hash          last_refresh  \\\n0  bb121323c9c29d3bef0c9a3f134bfd8b5ecff148  2021-07-13T23:01:19Z   \n1  c879557e78d059e6847e7688388c339d10f51979  2021-07-13T23:01:19Z   \n2  4fb19699fdbba1387ffa2263fcc4a4e37a1de6d6  2021-07-13T23:01:19Z   \n3  87a0c1dd5da249767f545e0c0a43f917e4e9ca83  2021-07-13T23:01:19Z   \n4  954449c15634fb45c8bea3ac975782793ccde050  2021-07-13T23:01:19Z   \n\n                         id  \n0  60c3b7a9a0ee349d71025780  \n1  60c3b7a9a0ee349d71025783  \n2  60c3b7a9a0ee349d71025777  \n3  60c3b7a9a0ee349d7102577a  \n4  60c3b7a9a0ee349d71025774  \n\n[5 rows x 22 columns]"
                    },
                    "execution_count": 82,
                    "metadata": {},
                    "output_type": "execute_result"
                }
            ],
            "source": "print(df_disaster.shape)\ndf_disaster.head()"
        },
        {
            "cell_type": "code",
            "execution_count": 83,
            "metadata": {},
            "outputs": [
                {
                    "data": {
                        "text/html": "<div>\n<style scoped>\n    .dataframe tbody tr th:only-of-type {\n        vertical-align: middle;\n    }\n\n    .dataframe tbody tr th {\n        vertical-align: top;\n    }\n\n    .dataframe thead th {\n        text-align: right;\n    }\n</style>\n<table border=\"1\" class=\"dataframe\">\n  <thead>\n    <tr style=\"text-align: right;\">\n      <th></th>\n      <th>Date</th>\n      <th>BTC Open</th>\n      <th>BTC Close</th>\n      <th>BTC Volume</th>\n    </tr>\n  </thead>\n  <tbody>\n    <tr>\n      <th>2274</th>\n      <td>2015-10-12</td>\n      <td>248.98</td>\n      <td>245.75</td>\n      <td>71.0477426014</td>\n    </tr>\n    <tr>\n      <th>2275</th>\n      <td>2015-10-11</td>\n      <td>246.3</td>\n      <td>248.98</td>\n      <td>22.7470905831</td>\n    </tr>\n    <tr>\n      <th>2276</th>\n      <td>2015-10-10</td>\n      <td>245.51</td>\n      <td>246.3</td>\n      <td>30.8705493027</td>\n    </tr>\n    <tr>\n      <th>2277</th>\n      <td>2015-10-09</td>\n      <td>243.6</td>\n      <td>245.51</td>\n      <td>61.5870675401</td>\n    </tr>\n    <tr>\n      <th>2278</th>\n      <td>2015-10-08</td>\n      <td>0.0</td>\n      <td>243.6</td>\n      <td>34.7547026012</td>\n    </tr>\n  </tbody>\n</table>\n</div>",
                        "text/plain": "            Date BTC Open BTC Close     BTC Volume\n2274  2015-10-12   248.98    245.75  71.0477426014\n2275  2015-10-11    246.3    248.98  22.7470905831\n2276  2015-10-10   245.51     246.3  30.8705493027\n2277  2015-10-09    243.6    245.51  61.5870675401\n2278  2015-10-08      0.0     243.6  34.7547026012"
                    },
                    "execution_count": 83,
                    "metadata": {},
                    "output_type": "execute_result"
                }
            ],
            "source": "df_btc.tail()"
        },
        {
            "cell_type": "markdown",
            "metadata": {},
            "source": "After dropping the unnecessary columns, I merged all of the dataframes into one dataframe for easy access."
        },
        {
            "cell_type": "code",
            "execution_count": 95,
            "metadata": {},
            "outputs": [],
            "source": "df_full = df_btc.merge(df_tesla, how='left', on='Date')\ndf_full = df_full.merge(df_nasdaq, how='left', on='Date')"
        },
        {
            "cell_type": "code",
            "execution_count": 98,
            "metadata": {},
            "outputs": [
                {
                    "data": {
                        "text/html": "<div>\n<style scoped>\n    .dataframe tbody tr th:only-of-type {\n        vertical-align: middle;\n    }\n\n    .dataframe tbody tr th {\n        vertical-align: top;\n    }\n\n    .dataframe thead th {\n        text-align: right;\n    }\n</style>\n<table border=\"1\" class=\"dataframe\">\n  <thead>\n    <tr style=\"text-align: right;\">\n      <th></th>\n      <th>Date</th>\n      <th>BTC Open</th>\n      <th>BTC Close</th>\n      <th>BTC Volume</th>\n      <th>TESLA Open</th>\n      <th>TESLA Close</th>\n      <th>TESLA Volume</th>\n      <th>NASDAQ Open</th>\n      <th>NASDAQ Close</th>\n      <th>NASDAQ Volume</th>\n    </tr>\n  </thead>\n  <tbody>\n    <tr>\n      <th>0</th>\n      <td>2021-12-31</td>\n      <td>47207.99</td>\n      <td>46806.83</td>\n      <td>1591.71255472</td>\n      <td>1073.439941</td>\n      <td>1056.780029</td>\n      <td>13528700.0</td>\n      <td>15722.910156</td>\n      <td>15644.969727</td>\n      <td>3.379850e+09</td>\n    </tr>\n    <tr>\n      <th>1</th>\n      <td>2021-12-30</td>\n      <td>46502.44</td>\n      <td>47207.99</td>\n      <td>998.41225028</td>\n      <td>1061.329956</td>\n      <td>1070.339966</td>\n      <td>15680300.0</td>\n      <td>15758.980469</td>\n      <td>15741.559570</td>\n      <td>3.732730e+09</td>\n    </tr>\n    <tr>\n      <th>2</th>\n      <td>2021-12-29</td>\n      <td>48017.93</td>\n      <td>46502.44</td>\n      <td>1119.62814235</td>\n      <td>1098.640015</td>\n      <td>1086.189941</td>\n      <td>18718000.0</td>\n      <td>15794.919922</td>\n      <td>15766.219727</td>\n      <td>3.694500e+09</td>\n    </tr>\n    <tr>\n      <th>3</th>\n      <td>2021-12-28</td>\n      <td>49821.79</td>\n      <td>48017.93</td>\n      <td>1275.00755132</td>\n      <td>1109.489990</td>\n      <td>1088.469971</td>\n      <td>20108000.0</td>\n      <td>15895.200195</td>\n      <td>15781.719727</td>\n      <td>3.623600e+09</td>\n    </tr>\n    <tr>\n      <th>4</th>\n      <td>2021-12-27</td>\n      <td>51036.12</td>\n      <td>49821.79</td>\n      <td>896.04207949</td>\n      <td>1073.670044</td>\n      <td>1093.939941</td>\n      <td>23715300.0</td>\n      <td>15696.830078</td>\n      <td>15871.259766</td>\n      <td>3.730120e+09</td>\n    </tr>\n  </tbody>\n</table>\n</div>",
                        "text/plain": "         Date  BTC Open BTC Close     BTC Volume   TESLA Open  TESLA Close  \\\n0  2021-12-31  47207.99  46806.83  1591.71255472  1073.439941  1056.780029   \n1  2021-12-30  46502.44  47207.99   998.41225028  1061.329956  1070.339966   \n2  2021-12-29  48017.93  46502.44  1119.62814235  1098.640015  1086.189941   \n3  2021-12-28  49821.79  48017.93  1275.00755132  1109.489990  1088.469971   \n4  2021-12-27  51036.12  49821.79   896.04207949  1073.670044  1093.939941   \n\n   TESLA Volume   NASDAQ Open  NASDAQ Close  NASDAQ Volume  \n0    13528700.0  15722.910156  15644.969727   3.379850e+09  \n1    15680300.0  15758.980469  15741.559570   3.732730e+09  \n2    18718000.0  15794.919922  15766.219727   3.694500e+09  \n3    20108000.0  15895.200195  15781.719727   3.623600e+09  \n4    23715300.0  15696.830078  15871.259766   3.730120e+09  "
                    },
                    "execution_count": 98,
                    "metadata": {},
                    "output_type": "execute_result"
                }
            ],
            "source": "df_full.dropna(axis=0, inplace=True)\ndf_full.reset_index(inplace=True)\ndf_full.drop(columns=['index'], inplace=True)\ndf_full.head()"
        },
        {
            "cell_type": "code",
            "execution_count": 105,
            "metadata": {},
            "outputs": [
                {
                    "data": {
                        "text/html": "<div>\n<style scoped>\n    .dataframe tbody tr th:only-of-type {\n        vertical-align: middle;\n    }\n\n    .dataframe tbody tr th {\n        vertical-align: top;\n    }\n\n    .dataframe thead th {\n        text-align: right;\n    }\n</style>\n<table border=\"1\" class=\"dataframe\">\n  <thead>\n    <tr style=\"text-align: right;\">\n      <th></th>\n      <th>Date</th>\n      <th>BTC Open</th>\n      <th>BTC Close</th>\n      <th>BTC Volume</th>\n      <th>TESLA Open</th>\n      <th>TESLA Close</th>\n      <th>TESLA Volume</th>\n      <th>NASDAQ Open</th>\n      <th>NASDAQ Close</th>\n      <th>NASDAQ Volume</th>\n    </tr>\n  </thead>\n  <tbody>\n    <tr>\n      <th>1565</th>\n      <td>2015-10-14</td>\n      <td>251.0</td>\n      <td>254.59</td>\n      <td>184.552068564</td>\n      <td>44.133999</td>\n      <td>43.375999</td>\n      <td>15522000.0</td>\n      <td>4801.350098</td>\n      <td>4782.850098</td>\n      <td>1.902460e+09</td>\n    </tr>\n    <tr>\n      <th>1566</th>\n      <td>2015-10-13</td>\n      <td>245.75</td>\n      <td>251.0</td>\n      <td>154.686596153</td>\n      <td>42.655998</td>\n      <td>43.849998</td>\n      <td>25857500.0</td>\n      <td>4809.240234</td>\n      <td>4796.609863</td>\n      <td>1.565060e+09</td>\n    </tr>\n    <tr>\n      <th>1567</th>\n      <td>2015-10-12</td>\n      <td>248.98</td>\n      <td>245.75</td>\n      <td>71.0477426014</td>\n      <td>44.598000</td>\n      <td>43.116001</td>\n      <td>19181500.0</td>\n      <td>4839.790039</td>\n      <td>4838.640137</td>\n      <td>1.343820e+09</td>\n    </tr>\n    <tr>\n      <th>1568</th>\n      <td>2015-10-09</td>\n      <td>243.6</td>\n      <td>245.51</td>\n      <td>61.5870675401</td>\n      <td>44.186001</td>\n      <td>44.138000</td>\n      <td>30792000.0</td>\n      <td>4817.279785</td>\n      <td>4830.470215</td>\n      <td>1.804260e+09</td>\n    </tr>\n    <tr>\n      <th>1569</th>\n      <td>2015-10-08</td>\n      <td>0.0</td>\n      <td>243.6</td>\n      <td>34.7547026012</td>\n      <td>46.015999</td>\n      <td>45.344002</td>\n      <td>30666000.0</td>\n      <td>4775.060059</td>\n      <td>4810.790039</td>\n      <td>1.984230e+09</td>\n    </tr>\n  </tbody>\n</table>\n</div>",
                        "text/plain": "            Date BTC Open BTC Close     BTC Volume  TESLA Open  TESLA Close  \\\n1565  2015-10-14    251.0    254.59  184.552068564   44.133999    43.375999   \n1566  2015-10-13   245.75     251.0  154.686596153   42.655998    43.849998   \n1567  2015-10-12   248.98    245.75  71.0477426014   44.598000    43.116001   \n1568  2015-10-09    243.6    245.51  61.5870675401   44.186001    44.138000   \n1569  2015-10-08      0.0     243.6  34.7547026012   46.015999    45.344002   \n\n      TESLA Volume  NASDAQ Open  NASDAQ Close  NASDAQ Volume  \n1565    15522000.0  4801.350098   4782.850098   1.902460e+09  \n1566    25857500.0  4809.240234   4796.609863   1.565060e+09  \n1567    19181500.0  4839.790039   4838.640137   1.343820e+09  \n1568    30792000.0  4817.279785   4830.470215   1.804260e+09  \n1569    30666000.0  4775.060059   4810.790039   1.984230e+09  "
                    },
                    "execution_count": 105,
                    "metadata": {},
                    "output_type": "execute_result"
                }
            ],
            "source": "df_full.tail()"
        },
        {
            "cell_type": "code",
            "execution_count": 109,
            "metadata": {},
            "outputs": [
                {
                    "name": "stdout",
                    "output_type": "stream",
                    "text": "597\n"
                }
            ],
            "source": "dis_dates_place = []\ndis_dates = []\nfor i in range(df_disaster.shape[0]):\n    if len(dis_dates_place) == 0:\n        dis_dates_place.append(df_disaster['declaration_date'][i][0:10])\n    else:\n        if df_disaster['declaration_date'][i][0:10] not in dis_dates_place:\n            dis_dates_place.append(df_disaster['declaration_date'][i][0:10])\n\nfor i in range(len(dis_dates_place)):\n    if int(dis_dates_place[i][0:4]) > 2014:\n        dis_dates.append(dis_dates_place[i][0:10])\nprint(len(dis_dates))"
        },
        {
            "cell_type": "markdown",
            "metadata": {},
            "source": "This code block below is where I manually one hot encoded the disaster data into the dataframe. In the part above, I gathered all of the dates I needed into one list. Then I put a one next to any date that had a disaster and a zero next to the dates that did not."
        },
        {
            "cell_type": "code",
            "execution_count": 110,
            "metadata": {},
            "outputs": [
                {
                    "name": "stderr",
                    "output_type": "stream",
                    "text": "/opt/conda/envs/Python-3.7-OpenCE/lib/python3.7/site-packages/ipykernel/__main__.py:8: SettingWithCopyWarning: \nA value is trying to be set on a copy of a slice from a DataFrame\n\nSee the caveats in the documentation: https://pandas.pydata.org/pandas-docs/stable/user_guide/indexing.html#returning-a-view-versus-a-copy\n/opt/conda/envs/Python-3.7-OpenCE/lib/python3.7/site-packages/ipykernel/__main__.py:6: SettingWithCopyWarning: \nA value is trying to be set on a copy of a slice from a DataFrame\n\nSee the caveats in the documentation: https://pandas.pydata.org/pandas-docs/stable/user_guide/indexing.html#returning-a-view-versus-a-copy\n"
                }
            ],
            "source": "import numpy as np\ndf_full['Disaster'] = np.nan\n\nfor i in range(df_full.shape[0]):\n    if df_full['Date'][i] in dis_dates:\n        df_full['Disaster'][i] = 1\n    else:\n        df_full['Disaster'][i] = 0"
        },
        {
            "cell_type": "markdown",
            "metadata": {},
            "source": "This code block below adds a day of the week column to the dataframe for analysis."
        },
        {
            "cell_type": "code",
            "execution_count": 112,
            "metadata": {},
            "outputs": [
                {
                    "data": {
                        "text/html": "<div>\n<style scoped>\n    .dataframe tbody tr th:only-of-type {\n        vertical-align: middle;\n    }\n\n    .dataframe tbody tr th {\n        vertical-align: top;\n    }\n\n    .dataframe thead th {\n        text-align: right;\n    }\n</style>\n<table border=\"1\" class=\"dataframe\">\n  <thead>\n    <tr style=\"text-align: right;\">\n      <th></th>\n      <th>Date</th>\n      <th>BTC Open</th>\n      <th>BTC Close</th>\n      <th>BTC Volume</th>\n      <th>TESLA Open</th>\n      <th>TESLA Close</th>\n      <th>TESLA Volume</th>\n      <th>NASDAQ Open</th>\n      <th>NASDAQ Close</th>\n      <th>NASDAQ Volume</th>\n      <th>Disaster</th>\n    </tr>\n  </thead>\n  <tbody>\n    <tr>\n      <th>1565</th>\n      <td>2015-10-14</td>\n      <td>251.0</td>\n      <td>254.59</td>\n      <td>184.552068564</td>\n      <td>44.133999</td>\n      <td>43.375999</td>\n      <td>15522000.0</td>\n      <td>4801.350098</td>\n      <td>4782.850098</td>\n      <td>1.902460e+09</td>\n      <td>1.0</td>\n    </tr>\n    <tr>\n      <th>1566</th>\n      <td>2015-10-13</td>\n      <td>245.75</td>\n      <td>251.0</td>\n      <td>154.686596153</td>\n      <td>42.655998</td>\n      <td>43.849998</td>\n      <td>25857500.0</td>\n      <td>4809.240234</td>\n      <td>4796.609863</td>\n      <td>1.565060e+09</td>\n      <td>0.0</td>\n    </tr>\n    <tr>\n      <th>1567</th>\n      <td>2015-10-12</td>\n      <td>248.98</td>\n      <td>245.75</td>\n      <td>71.0477426014</td>\n      <td>44.598000</td>\n      <td>43.116001</td>\n      <td>19181500.0</td>\n      <td>4839.790039</td>\n      <td>4838.640137</td>\n      <td>1.343820e+09</td>\n      <td>0.0</td>\n    </tr>\n    <tr>\n      <th>1568</th>\n      <td>2015-10-09</td>\n      <td>243.6</td>\n      <td>245.51</td>\n      <td>61.5870675401</td>\n      <td>44.186001</td>\n      <td>44.138000</td>\n      <td>30792000.0</td>\n      <td>4817.279785</td>\n      <td>4830.470215</td>\n      <td>1.804260e+09</td>\n      <td>0.0</td>\n    </tr>\n    <tr>\n      <th>1569</th>\n      <td>2015-10-08</td>\n      <td>0.0</td>\n      <td>243.6</td>\n      <td>34.7547026012</td>\n      <td>46.015999</td>\n      <td>45.344002</td>\n      <td>30666000.0</td>\n      <td>4775.060059</td>\n      <td>4810.790039</td>\n      <td>1.984230e+09</td>\n      <td>0.0</td>\n    </tr>\n  </tbody>\n</table>\n</div>",
                        "text/plain": "            Date BTC Open BTC Close     BTC Volume  TESLA Open  TESLA Close  \\\n1565  2015-10-14    251.0    254.59  184.552068564   44.133999    43.375999   \n1566  2015-10-13   245.75     251.0  154.686596153   42.655998    43.849998   \n1567  2015-10-12   248.98    245.75  71.0477426014   44.598000    43.116001   \n1568  2015-10-09    243.6    245.51  61.5870675401   44.186001    44.138000   \n1569  2015-10-08      0.0     243.6  34.7547026012   46.015999    45.344002   \n\n      TESLA Volume  NASDAQ Open  NASDAQ Close  NASDAQ Volume  Disaster  \n1565    15522000.0  4801.350098   4782.850098   1.902460e+09       1.0  \n1566    25857500.0  4809.240234   4796.609863   1.565060e+09       0.0  \n1567    19181500.0  4839.790039   4838.640137   1.343820e+09       0.0  \n1568    30792000.0  4817.279785   4830.470215   1.804260e+09       0.0  \n1569    30666000.0  4775.060059   4810.790039   1.984230e+09       0.0  "
                    },
                    "execution_count": 112,
                    "metadata": {},
                    "output_type": "execute_result"
                }
            ],
            "source": "df_full['Date'] = pd.to_datetime(df_full['Date'])\ndf_full['Day of Week'] = df_full['Date'].dt.day_name()\n\ndf_full.tail()"
        },
        {
            "cell_type": "markdown",
            "metadata": {},
            "source": "Here I take the day of the week column and label encode it to give a number to everyday of the week."
        },
        {
            "cell_type": "code",
            "execution_count": null,
            "metadata": {},
            "outputs": [],
            "source": "from sklearn.preprocessing import LabelEncoder\n\nle = LabelEncoder()\nle.fit(['Monday', 'Tuesday', 'Wednesday', 'Thursday', 'Friday'])\n\ndf_full['day'] = le.transform(df['Day of Week'])"
        },
        {
            "cell_type": "code",
            "execution_count": 113,
            "metadata": {},
            "outputs": [
                {
                    "data": {
                        "text/plain": "{'file_name': 'Crypto Analysis Data.csv',\n 'message': 'File saved to project storage.',\n 'bucket_name': 'cryptocurrencytimeseriesanalysis-donotdelete-pr-ftcfcmt8sasew7',\n 'asset_id': '465dd7e6-1a81-418a-b92e-1fb8458d45cf'}"
                    },
                    "execution_count": 113,
                    "metadata": {},
                    "output_type": "execute_result"
                }
            ],
            "source": "from project_lib import Project\nproject = Project(None, '8c125e15-9575-45d2-bee5-7670c3e8fa88', 'p-f4771a63735a47a8e7f28684678e1bbc3291acbc')\npc = project.project_context\nproject.save_data(data=df_full.to_csv(index=False),file_name='Crypto Analysis Data.csv',overwrite=True)"
        },
        {
            "cell_type": "code",
            "execution_count": null,
            "metadata": {},
            "outputs": [],
            "source": ""
        },
        {
            "cell_type": "code",
            "execution_count": null,
            "metadata": {},
            "outputs": [],
            "source": ""
        }
    ],
    "metadata": {
        "kernelspec": {
            "display_name": "Python 3.7",
            "language": "python",
            "name": "python3"
        },
        "language_info": {
            "codemirror_mode": {
                "name": "ipython",
                "version": 3
            },
            "file_extension": ".py",
            "mimetype": "text/x-python",
            "name": "python",
            "nbconvert_exporter": "python",
            "pygments_lexer": "ipython3",
            "version": "3.7.11"
        }
    },
    "nbformat": 4,
    "nbformat_minor": 1
}