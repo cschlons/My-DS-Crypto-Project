{
    "cells": [
        {
            "cell_type": "code",
            "execution_count": 16,
            "metadata": {},
            "outputs": [
                {
                    "data": {
                        "text/html": "<div>\n<style scoped>\n    .dataframe tbody tr th:only-of-type {\n        vertical-align: middle;\n    }\n\n    .dataframe tbody tr th {\n        vertical-align: top;\n    }\n\n    .dataframe thead th {\n        text-align: right;\n    }\n</style>\n<table border=\"1\" class=\"dataframe\">\n  <thead>\n    <tr style=\"text-align: right;\">\n      <th></th>\n      <th>Date</th>\n      <th>BTC Open</th>\n      <th>BTC Close</th>\n      <th>BTC Volume</th>\n      <th>TESLA Open</th>\n      <th>TESLA Close</th>\n      <th>TESLA Volume</th>\n      <th>NASDAQ Open</th>\n      <th>NASDAQ Close</th>\n      <th>NASDAQ Volume</th>\n      <th>Disaster</th>\n      <th>Day of Week</th>\n      <th>day</th>\n    </tr>\n  </thead>\n  <tbody>\n    <tr>\n      <th>0</th>\n      <td>2021-12-31</td>\n      <td>47207.99</td>\n      <td>46806.83</td>\n      <td>1591.712555</td>\n      <td>1073.439941</td>\n      <td>1056.780029</td>\n      <td>13528700.0</td>\n      <td>15722.910156</td>\n      <td>15644.969727</td>\n      <td>3.379850e+09</td>\n      <td>0.0</td>\n      <td>Friday</td>\n      <td>0</td>\n    </tr>\n    <tr>\n      <th>1</th>\n      <td>2021-12-30</td>\n      <td>46502.44</td>\n      <td>47207.99</td>\n      <td>998.412250</td>\n      <td>1061.329956</td>\n      <td>1070.339966</td>\n      <td>15680300.0</td>\n      <td>15758.980469</td>\n      <td>15741.559570</td>\n      <td>3.732730e+09</td>\n      <td>0.0</td>\n      <td>Thursday</td>\n      <td>2</td>\n    </tr>\n    <tr>\n      <th>2</th>\n      <td>2021-12-29</td>\n      <td>48017.93</td>\n      <td>46502.44</td>\n      <td>1119.628142</td>\n      <td>1098.640015</td>\n      <td>1086.189941</td>\n      <td>18718000.0</td>\n      <td>15794.919922</td>\n      <td>15766.219727</td>\n      <td>3.694500e+09</td>\n      <td>0.0</td>\n      <td>Wednesday</td>\n      <td>4</td>\n    </tr>\n    <tr>\n      <th>3</th>\n      <td>2021-12-28</td>\n      <td>49821.79</td>\n      <td>48017.93</td>\n      <td>1275.007551</td>\n      <td>1109.489990</td>\n      <td>1088.469971</td>\n      <td>20108000.0</td>\n      <td>15895.200195</td>\n      <td>15781.719727</td>\n      <td>3.623600e+09</td>\n      <td>0.0</td>\n      <td>Tuesday</td>\n      <td>3</td>\n    </tr>\n    <tr>\n      <th>4</th>\n      <td>2021-12-27</td>\n      <td>51036.12</td>\n      <td>49821.79</td>\n      <td>896.042079</td>\n      <td>1073.670044</td>\n      <td>1093.939941</td>\n      <td>23715300.0</td>\n      <td>15696.830078</td>\n      <td>15871.259766</td>\n      <td>3.730120e+09</td>\n      <td>0.0</td>\n      <td>Monday</td>\n      <td>1</td>\n    </tr>\n  </tbody>\n</table>\n</div>",
                        "text/plain": "         Date  BTC Open  BTC Close   BTC Volume   TESLA Open  TESLA Close  \\\n0  2021-12-31  47207.99   46806.83  1591.712555  1073.439941  1056.780029   \n1  2021-12-30  46502.44   47207.99   998.412250  1061.329956  1070.339966   \n2  2021-12-29  48017.93   46502.44  1119.628142  1098.640015  1086.189941   \n3  2021-12-28  49821.79   48017.93  1275.007551  1109.489990  1088.469971   \n4  2021-12-27  51036.12   49821.79   896.042079  1073.670044  1093.939941   \n\n   TESLA Volume   NASDAQ Open  NASDAQ Close  NASDAQ Volume  Disaster  \\\n0    13528700.0  15722.910156  15644.969727   3.379850e+09       0.0   \n1    15680300.0  15758.980469  15741.559570   3.732730e+09       0.0   \n2    18718000.0  15794.919922  15766.219727   3.694500e+09       0.0   \n3    20108000.0  15895.200195  15781.719727   3.623600e+09       0.0   \n4    23715300.0  15696.830078  15871.259766   3.730120e+09       0.0   \n\n  Day of Week  day  \n0      Friday    0  \n1    Thursday    2  \n2   Wednesday    4  \n3     Tuesday    3  \n4      Monday    1  "
                    },
                    "execution_count": 16,
                    "metadata": {},
                    "output_type": "execute_result"
                }
            ],
            "source": "# The code was removed by Watson Studio for sharing."
        },
        {
            "cell_type": "code",
            "execution_count": 17,
            "metadata": {},
            "outputs": [],
            "source": "from sklearn.linear_model import LinearRegression\nfrom sklearn.svm import LinearSVR\nfrom sklearn.ensemble import GradientBoostingRegressor\nfrom sklearn.linear_model import SGDRegressor\nfrom sklearn.model_selection import train_test_split\nfrom sklearn.preprocessing import StandardScaler\nfrom sklearn.pipeline import make_pipeline\nfrom sklearn.metrics import mean_squared_error\nfrom sklearn.metrics import mean_absolute_error\nfrom sklearn.model_selection import GridSearchCV\nfrom sklearn.decomposition import PCA"
        },
        {
            "cell_type": "code",
            "execution_count": 64,
            "metadata": {},
            "outputs": [],
            "source": "X = df[['TESLA Open', 'TESLA Volume', 'NASDAQ Open', 'NASDAQ Volume', 'Disaster', 'day']]\ny = df['BTC Close']"
        },
        {
            "cell_type": "code",
            "execution_count": 65,
            "metadata": {},
            "outputs": [],
            "source": "x_train, x_test, y_train, y_test = train_test_split(X, y, test_size=0.2, random_state=42)"
        },
        {
            "cell_type": "markdown",
            "metadata": {},
            "source": "# Machine learning algorithms: Support Vector Machine, Linear Regression, Gradient Boosting Regression, Stochastic Gradient Descent"
        },
        {
            "cell_type": "markdown",
            "metadata": {},
            "source": "First off, I trained the support vector machine. The SVM was the worst algorithm when comparing RMSE and MAE."
        },
        {
            "cell_type": "code",
            "execution_count": 68,
            "metadata": {},
            "outputs": [
                {
                    "name": "stdout",
                    "output_type": "stream",
                    "text": "{'linearsvr__C': 10, 'linearsvr__max_iter': 10}\n12209.284217834474\n6323.922787884493\n"
                }
            ],
            "source": "# best C = 10\n# best max_iter = 10\n\nsvm_reg = make_pipeline(StandardScaler(),\n                        PCA(n_components=5),\n                        LinearSVR(random_state=42))\n\nparameters = {'linearsvr__max_iter':(10, 20, 50, 100), 'linearsvr__C':[1, 5, 10]}\nclf = GridSearchCV(svm_reg, parameters)\nclf.fit(x_train, y_train)\npred_svm = clf.predict(x_test)\nprint(clf.best_params_)\nrmse_svm = mean_squared_error(y_test, pred_svm, squared=False)\nmae_svm = mean_absolute_error(y_test, pred_svm)\nprint(rmse_svm)\nprint(mae_svm)"
        },
        {
            "cell_type": "markdown",
            "metadata": {},
            "source": "Next I trained the Linear Regression model which was a vast improvement over the SVM, but not the best."
        },
        {
            "cell_type": "code",
            "execution_count": 69,
            "metadata": {},
            "outputs": [
                {
                    "name": "stdout",
                    "output_type": "stream",
                    "text": "{'linearsvr__C': 10, 'linearsvr__max_iter': 10}\n6141.695933328104\n3912.464934999993\n"
                }
            ],
            "source": "# best C = 10\n# best max_iter = 10\n\nlin_reg = make_pipeline(StandardScaler(),\n                        PCA(n_components=5),\n                        LinearRegression())\nlin_reg.fit(x_train, y_train)\npred_lin = lin_reg.predict(x_test)\nprint(clf.best_params_)\nrmse_lin = mean_squared_error(y_test, pred_lin, squared=False)\nmae_lin = mean_absolute_error(y_test, pred_lin)\nprint(rmse_lin)\nprint(mae_lin)"
        },
        {
            "cell_type": "markdown",
            "metadata": {},
            "source": "The next model was the Gradient Boosting Regressor. This model did the best in terms of both RMSE and MAE."
        },
        {
            "cell_type": "code",
            "execution_count": 70,
            "metadata": {},
            "outputs": [
                {
                    "name": "stdout",
                    "output_type": "stream",
                    "text": "{'gradientboostingregressor__learning_rate': 0.1, 'gradientboostingregressor__max_depth': 3, 'gradientboostingregressor__n_estimators': 100}\n2675.4615827684665\n1587.2588633376267\n"
                }
            ],
            "source": "# best learning_rate = 0.1\n# best max_depth = 3\n# best n_estimators = 100\n\nboost_reg = make_pipeline(StandardScaler(),\n#                          PCA(n_components=5),\n                        GradientBoostingRegressor(random_state=42))\n#parameters = {'gradientboostingregressor__learning_rate':[0.1, 0.01], 'gradientboostingregressor__n_estimators':[100, 1000, 2500],\n#             'gradientboostingregressor__max_depth':[3, 15, 30, 50]}\n\nparameters = {'gradientboostingregressor__learning_rate':[0.1], 'gradientboostingregressor__n_estimators':[100],\n             'gradientboostingregressor__max_depth':[3]}\nclf = GridSearchCV(boost_reg, parameters)\nclf.fit(x_train, y_train)\npred_boost = clf.predict(x_test)\nprint(clf.best_params_)\nrmse_boost = mean_squared_error(y_test, pred_boost, squared=False)\nmae_boost = mean_absolute_error(y_test, pred_boost)\nprint(rmse_boost)\nprint(mae_boost)"
        },
        {
            "cell_type": "markdown",
            "metadata": {},
            "source": "The final model I trained was Stochastic Gradient Descent. This model did similarly to the linear regression, but not better than the gradient boosting."
        },
        {
            "cell_type": "code",
            "execution_count": 71,
            "metadata": {},
            "outputs": [
                {
                    "name": "stdout",
                    "output_type": "stream",
                    "text": "{'sgdregressor__max_iter': 100, 'sgdregressor__penalty': 'l1'}\n6152.450413587761\n3925.948533086649\n"
                }
            ],
            "source": "# best max_iter = 100\n# best penalty = l1\n\nsgd_reg = make_pipeline(StandardScaler(),\n                        PCA(n_components=5),\n                        SGDRegressor(random_state=42))\nparameters = {'sgdregressor__penalty': ['l2', 'l1', 'elasticnet'], 'sgdregressor__max_iter':[100, 250, 500, 1000, 2500]}\nclf = GridSearchCV(sgd_reg, parameters)\nclf.fit(x_train, y_train)\npred_sgd = clf.predict(x_test)\nprint(clf.best_params_)\nrmse_sgd = mean_squared_error(y_test, pred_sgd, squared=False)\nmae_sgd = mean_absolute_error(y_test, pred_sgd)\nprint(rmse_sgd)\nprint(mae_sgd)"
        },
        {
            "cell_type": "code",
            "execution_count": 13,
            "metadata": {},
            "outputs": [],
            "source": "import matplotlib.pyplot as plt"
        },
        {
            "cell_type": "code",
            "execution_count": 72,
            "metadata": {},
            "outputs": [
                {
                    "data": {
                        "text/plain": "<function matplotlib.pyplot.show(*args, **kw)>"
                    },
                    "execution_count": 72,
                    "metadata": {},
                    "output_type": "execute_result"
                },
                {
                    "data": {
                        "image/png": "[encoded data removed]",
                        "text/plain": "<Figure size 432x288 with 1 Axes>"
                    },
                    "metadata": {
                        "needs_background": "light"
                    },
                    "output_type": "display_data"
                }
            ],
            "source": "data = [rmse_svm, rmse_lin, rmse_boost, rmse_sgd]\nyaxis = ['SVM', 'Lin Reg', 'Boost', 'SGD']\nplt.bar(yaxis, data)\nplt.ylabel('Root Mean Squared Error')\nplt.title('')\nplt.show"
        },
        {
            "cell_type": "code",
            "execution_count": 73,
            "metadata": {},
            "outputs": [
                {
                    "data": {
                        "text/plain": "<function matplotlib.pyplot.show(*args, **kw)>"
                    },
                    "execution_count": 73,
                    "metadata": {},
                    "output_type": "execute_result"
                },
                {
                    "data": {
                        "image/png": "[encoded data removed]",
                        "text/plain": "<Figure size 432x288 with 1 Axes>"
                    },
                    "metadata": {
                        "needs_background": "light"
                    },
                    "output_type": "display_data"
                }
            ],
            "source": "data = [mae_svm, mae_lin, mae_boost, mae_sgd]\nyaxis = ['SVM', 'Lin Reg', 'Boost', 'SGD']\nplt.bar(yaxis, data)\nplt.ylabel('Mean Absolute Error')\nplt.title('')\nplt.show"
        },
        {
            "cell_type": "code",
            "execution_count": null,
            "metadata": {},
            "outputs": [],
            "source": ""
        }
    ],
    "metadata": {
        "kernelspec": {
            "display_name": "Python 3.7",
            "language": "python",
            "name": "python3"
        },
        "language_info": {
            "codemirror_mode": {
                "name": "ipython",
                "version": 3
            },
            "file_extension": ".py",
            "mimetype": "text/x-python",
            "name": "python",
            "nbconvert_exporter": "python",
            "pygments_lexer": "ipython3",
            "version": "3.7.11"
        }
    },
    "nbformat": 4,
    "nbformat_minor": 1
}