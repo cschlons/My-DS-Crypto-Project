{
    "cells": [
        {
            "cell_type": "code",
            "execution_count": 2,
            "metadata": {},
            "outputs": [
                {
                    "data": {
                        "text/html": "<div>\n<style scoped>\n    .dataframe tbody tr th:only-of-type {\n        vertical-align: middle;\n    }\n\n    .dataframe tbody tr th {\n        vertical-align: top;\n    }\n\n    .dataframe thead th {\n        text-align: right;\n    }\n</style>\n<table border=\"1\" class=\"dataframe\">\n  <thead>\n    <tr style=\"text-align: right;\">\n      <th></th>\n      <th>Date</th>\n      <th>BTC Open</th>\n      <th>BTC Close</th>\n      <th>BTC Volume</th>\n      <th>TESLA Open</th>\n      <th>TESLA Close</th>\n      <th>TESLA Volume</th>\n      <th>NASDAQ Open</th>\n      <th>NASDAQ Close</th>\n      <th>NASDAQ Volume</th>\n      <th>Disaster</th>\n      <th>Day of Week</th>\n      <th>day</th>\n    </tr>\n  </thead>\n  <tbody>\n    <tr>\n      <th>0</th>\n      <td>2021-12-31</td>\n      <td>47207.99</td>\n      <td>46806.83</td>\n      <td>1591.712555</td>\n      <td>1073.439941</td>\n      <td>1056.780029</td>\n      <td>13528700.0</td>\n      <td>15722.910156</td>\n      <td>15644.969727</td>\n      <td>3.379850e+09</td>\n      <td>0.0</td>\n      <td>Friday</td>\n      <td>0</td>\n    </tr>\n    <tr>\n      <th>1</th>\n      <td>2021-12-30</td>\n      <td>46502.44</td>\n      <td>47207.99</td>\n      <td>998.412250</td>\n      <td>1061.329956</td>\n      <td>1070.339966</td>\n      <td>15680300.0</td>\n      <td>15758.980469</td>\n      <td>15741.559570</td>\n      <td>3.732730e+09</td>\n      <td>0.0</td>\n      <td>Thursday</td>\n      <td>2</td>\n    </tr>\n    <tr>\n      <th>2</th>\n      <td>2021-12-29</td>\n      <td>48017.93</td>\n      <td>46502.44</td>\n      <td>1119.628142</td>\n      <td>1098.640015</td>\n      <td>1086.189941</td>\n      <td>18718000.0</td>\n      <td>15794.919922</td>\n      <td>15766.219727</td>\n      <td>3.694500e+09</td>\n      <td>0.0</td>\n      <td>Wednesday</td>\n      <td>4</td>\n    </tr>\n    <tr>\n      <th>3</th>\n      <td>2021-12-28</td>\n      <td>49821.79</td>\n      <td>48017.93</td>\n      <td>1275.007551</td>\n      <td>1109.489990</td>\n      <td>1088.469971</td>\n      <td>20108000.0</td>\n      <td>15895.200195</td>\n      <td>15781.719727</td>\n      <td>3.623600e+09</td>\n      <td>0.0</td>\n      <td>Tuesday</td>\n      <td>3</td>\n    </tr>\n    <tr>\n      <th>4</th>\n      <td>2021-12-27</td>\n      <td>51036.12</td>\n      <td>49821.79</td>\n      <td>896.042079</td>\n      <td>1073.670044</td>\n      <td>1093.939941</td>\n      <td>23715300.0</td>\n      <td>15696.830078</td>\n      <td>15871.259766</td>\n      <td>3.730120e+09</td>\n      <td>0.0</td>\n      <td>Monday</td>\n      <td>1</td>\n    </tr>\n  </tbody>\n</table>\n</div>",
                        "text/plain": "         Date  BTC Open  BTC Close   BTC Volume   TESLA Open  TESLA Close  \\\n0  2021-12-31  47207.99   46806.83  1591.712555  1073.439941  1056.780029   \n1  2021-12-30  46502.44   47207.99   998.412250  1061.329956  1070.339966   \n2  2021-12-29  48017.93   46502.44  1119.628142  1098.640015  1086.189941   \n3  2021-12-28  49821.79   48017.93  1275.007551  1109.489990  1088.469971   \n4  2021-12-27  51036.12   49821.79   896.042079  1073.670044  1093.939941   \n\n   TESLA Volume   NASDAQ Open  NASDAQ Close  NASDAQ Volume  Disaster  \\\n0    13528700.0  15722.910156  15644.969727   3.379850e+09       0.0   \n1    15680300.0  15758.980469  15741.559570   3.732730e+09       0.0   \n2    18718000.0  15794.919922  15766.219727   3.694500e+09       0.0   \n3    20108000.0  15895.200195  15781.719727   3.623600e+09       0.0   \n4    23715300.0  15696.830078  15871.259766   3.730120e+09       0.0   \n\n  Day of Week  day  \n0      Friday    0  \n1    Thursday    2  \n2   Wednesday    4  \n3     Tuesday    3  \n4      Monday    1  "
                    },
                    "execution_count": 2,
                    "metadata": {},
                    "output_type": "execute_result"
                }
            ],
            "source": "# The code was removed by Watson Studio for sharing."
        },
        {
            "cell_type": "code",
            "execution_count": 12,
            "metadata": {
                "scrolled": true
            },
            "outputs": [
                {
                    "name": "stdout",
                    "output_type": "stream",
                    "text": "/opt/conda/envs/Python-3.7-OpenCE/lib/python3.7/site-packages/secretstorage/dhcrypto.py:16: CryptographyDeprecationWarning: int_from_bytes is deprecated, use int.from_bytes instead\n  from cryptography.utils import int_from_bytes\n/opt/conda/envs/Python-3.7-OpenCE/lib/python3.7/site-packages/secretstorage/util.py:25: CryptographyDeprecationWarning: int_from_bytes is deprecated, use int.from_bytes instead\n  from cryptography.utils import int_from_bytes\nRequirement already satisfied: keras==2.3.1 in /opt/conda/envs/Python-3.7-OpenCE/lib/python3.7/site-packages (2.3.1)\nRequirement already satisfied: keras-applications>=1.0.6 in /opt/conda/envs/Python-3.7-OpenCE/lib/python3.7/site-packages (from keras==2.3.1) (1.0.8)\nRequirement already satisfied: scipy>=0.14 in /opt/conda/envs/Python-3.7-OpenCE/lib/python3.7/site-packages (from keras==2.3.1) (1.4.1)\nRequirement already satisfied: pyyaml in /opt/conda/envs/Python-3.7-OpenCE/lib/python3.7/site-packages (from keras==2.3.1) (5.4.1)\nRequirement already satisfied: six>=1.9.0 in /opt/conda/envs/Python-3.7-OpenCE/lib/python3.7/site-packages (from keras==2.3.1) (1.15.0)\nRequirement already satisfied: keras-preprocessing>=1.0.5 in /opt/conda/envs/Python-3.7-OpenCE/lib/python3.7/site-packages (from keras==2.3.1) (1.1.2)\nRequirement already satisfied: h5py in /opt/conda/envs/Python-3.7-OpenCE/lib/python3.7/site-packages (from keras==2.3.1) (2.10.0)\nRequirement already satisfied: numpy>=1.9.1 in /opt/conda/envs/Python-3.7-OpenCE/lib/python3.7/site-packages (from keras==2.3.1) (1.19.2)\n/opt/conda/envs/Python-3.7-OpenCE/lib/python3.7/site-packages/secretstorage/dhcrypto.py:16: CryptographyDeprecationWarning: int_from_bytes is deprecated, use int.from_bytes instead\n  from cryptography.utils import int_from_bytes\n/opt/conda/envs/Python-3.7-OpenCE/lib/python3.7/site-packages/secretstorage/util.py:25: CryptographyDeprecationWarning: int_from_bytes is deprecated, use int.from_bytes instead\n  from cryptography.utils import int_from_bytes\nCollecting git+https://www.github.com/keras-team/keras-contrib.git\n  Cloning https://www.github.com/keras-team/keras-contrib.git to /tmp/wsuser/pip-req-build-2etlerql\n  Running command git clone -q https://www.github.com/keras-team/keras-contrib.git /tmp/wsuser/pip-req-build-2etlerql\nRequirement already satisfied: keras in /opt/conda/envs/Python-3.7-OpenCE/lib/python3.7/site-packages (from keras-contrib==2.0.8) (2.3.1)\nRequirement already satisfied: scipy>=0.14 in /opt/conda/envs/Python-3.7-OpenCE/lib/python3.7/site-packages (from keras->keras-contrib==2.0.8) (1.4.1)\nRequirement already satisfied: pyyaml in /opt/conda/envs/Python-3.7-OpenCE/lib/python3.7/site-packages (from keras->keras-contrib==2.0.8) (5.4.1)\nRequirement already satisfied: keras-applications>=1.0.6 in /opt/conda/envs/Python-3.7-OpenCE/lib/python3.7/site-packages (from keras->keras-contrib==2.0.8) (1.0.8)\nRequirement already satisfied: numpy>=1.9.1 in /opt/conda/envs/Python-3.7-OpenCE/lib/python3.7/site-packages (from keras->keras-contrib==2.0.8) (1.19.2)\nRequirement already satisfied: keras-preprocessing>=1.0.5 in /opt/conda/envs/Python-3.7-OpenCE/lib/python3.7/site-packages (from keras->keras-contrib==2.0.8) (1.1.2)\nRequirement already satisfied: six>=1.9.0 in /opt/conda/envs/Python-3.7-OpenCE/lib/python3.7/site-packages (from keras->keras-contrib==2.0.8) (1.15.0)\nRequirement already satisfied: h5py in /opt/conda/envs/Python-3.7-OpenCE/lib/python3.7/site-packages (from keras->keras-contrib==2.0.8) (2.10.0)\nBuilding wheels for collected packages: keras-contrib\n  Building wheel for keras-contrib (setup.py) ... \u001b[?25ldone\n\u001b[?25h  Created wheel for keras-contrib: filename=keras_contrib-2.0.8-py3-none-any.whl size=101064 sha256=9a2129926871a081ee9d5c4b28e137eef8e0c8df3bcfc23d29683faa2d2d5fad\n  Stored in directory: /tmp/wsuser/pip-ephem-wheel-cache-x8p08l54/wheels/bb/1f/f2/b57495012683b6b20bbae94a3915ec79753111452d79886abc\nSuccessfully built keras-contrib\nInstalling collected packages: keras-contrib\nSuccessfully installed keras-contrib-2.0.8\n"
                }
            ],
            "source": "!pip install keras==2.3.1\n!pip install git+https://www.github.com/keras-team/keras-contrib.git"
        },
        {
            "cell_type": "code",
            "execution_count": 32,
            "metadata": {},
            "outputs": [],
            "source": "import tensorflow\nfrom tensorflow import keras\nfrom tensorflow.keras.layers import Dense\nfrom tensorflow.keras.layers import Input, LSTM\nfrom tensorflow.keras.models import Model"
        },
        {
            "cell_type": "code",
            "execution_count": 132,
            "metadata": {},
            "outputs": [],
            "source": "batch_size = 32\ntimesteps = 1\nepoch = 100"
        },
        {
            "cell_type": "code",
            "execution_count": 133,
            "metadata": {},
            "outputs": [],
            "source": "# Using the function defined in the LSTM course videos\n\ndef get_train_length(dataset, batch_size, test_percent):\n    length = len(dataset)\n    length *= 1 - test_percent\n    train_length_values = []\n    for x in range(int(length) - 100, int(length)):\n        modulo = x % batch_size\n        if (modulo == 0):\n            train_length_values.append(x)\n            print(x)\n    return (max(train_length_values))"
        },
        {
            "cell_type": "code",
            "execution_count": 134,
            "metadata": {},
            "outputs": [
                {
                    "name": "stdout",
                    "output_type": "stream",
                    "text": "1168\n1184\n1200\n1216\n1232\n1248\n"
                }
            ],
            "source": "length = get_train_length(df, batch_size, 0.2)"
        },
        {
            "cell_type": "code",
            "execution_count": 135,
            "metadata": {},
            "outputs": [],
            "source": "df_train = df[0:length + timesteps*2]\ndf_test = df[length + timesteps*2 + 1:]"
        },
        {
            "cell_type": "code",
            "execution_count": 136,
            "metadata": {},
            "outputs": [],
            "source": "df_train = df_train[['TESLA Open', 'TESLA Volume', 'NASDAQ Open', 'NASDAQ Volume', 'Disaster', 'day', 'BTC Open']]\n\ndf_train_x = df_train[['TESLA Open', 'TESLA Volume', 'NASDAQ Open', 'NASDAQ Volume', 'Disaster', 'day']]\ndf_test_x = df_test[['TESLA Open', 'TESLA Volume', 'NASDAQ Open', 'NASDAQ Volume', 'Disaster', 'day']]\n\ndf_train_y = df_train['BTC Open']\ndf_test_y = df_test['BTC Open']"
        },
        {
            "cell_type": "code",
            "execution_count": 137,
            "metadata": {},
            "outputs": [],
            "source": "from sklearn.preprocessing import Normalizer\n\n#norm = Normalizer(norm='max')\n#df_train_x = norm.fit_transform(df_train_x)\ndf_train = np.array(df_train)"
        },
        {
            "cell_type": "code",
            "execution_count": 138,
            "metadata": {},
            "outputs": [
                {
                    "name": "stdout",
                    "output_type": "stream",
                    "text": "1249\n1248\n1248\n"
                }
            ],
            "source": "x_train = []\ny_train = []\n\nprint(length+timesteps)\nfor i in range(timesteps, length + timesteps):\n    x_train.append(df_train[i-timesteps:i,0:5])\n    y_train.append(df_train[i:i+timesteps,6])\n    \nprint(len(x_train))\nprint(len(y_train))"
        },
        {
            "cell_type": "code",
            "execution_count": 139,
            "metadata": {},
            "outputs": [
                {
                    "name": "stdout",
                    "output_type": "stream",
                    "text": "(1248, 5, 1)\n(1248, 1, 1)\n"
                }
            ],
            "source": "import numpy as np\nx_train, y_train = np.array(x_train), np.array(y_train)\nx_train = np.reshape(x_train, (x_train.shape[0], x_train.shape[2], 1))\ny_train = np.reshape(y_train, (y_train.shape[0], y_train.shape[1], 1))\n\nprint(x_train.shape)\nprint(y_train.shape)"
        },
        {
            "cell_type": "code",
            "execution_count": 154,
            "metadata": {},
            "outputs": [
                {
                    "name": "stdout",
                    "output_type": "stream",
                    "text": "Model: \"model_20\"\n_________________________________________________________________\nLayer (type)                 Output Shape              Param #   \n=================================================================\ninput_25 (InputLayer)        [(32, 5, 1)]              0         \n_________________________________________________________________\nlstm_46 (LSTM)               (32, 5, 128)              66560     \n_________________________________________________________________\nlstm_47 (LSTM)               (32, 5, 64)               49408     \n_________________________________________________________________\nlstm_48 (LSTM)               (32, 5, 32)               12416     \n_________________________________________________________________\ndense_20 (Dense)             (32, 5, 1)                33        \n=================================================================\nTotal params: 128,417\nTrainable params: 128,417\nNon-trainable params: 0\n_________________________________________________________________\n"
                }
            ],
            "source": "input_1 = Input(batch_shape=(32, 5, 1))\nlstm_1 = LSTM(128, stateful=True, return_sequences=True)(input_1)\nlstm_2 = LSTM(64, stateful=True, return_sequences=True)(lstm_1)\nlstm_3 = LSTM(32, stateful=True, return_sequences=True)(lstm_2)\noutput_1 = Dense(units=1)(lstm_3)\n\nregressor = Model(inputs=input_1, outputs=output_1)\nregressor.compile(optimizer='adam', loss='mean_absolute_error')\nregressor.summary()"
        },
        {
            "cell_type": "code",
            "execution_count": 155,
            "metadata": {},
            "outputs": [
                {
                    "name": "stdout",
                    "output_type": "stream",
                    "text": "Epoch 1/8\n39/39 [==============================] - 5s 67ms/step - loss: 15346.1125\nEpoch 2/8\n39/39 [==============================] - 3s 65ms/step - loss: 15711.2146\nEpoch 3/8\n39/39 [==============================] - 3s 68ms/step - loss: 15385.9822\nEpoch 4/8\n39/39 [==============================] - 3s 66ms/step - loss: 15293.9451\nEpoch 5/8\n39/39 [==============================] - 2s 64ms/step - loss: 15846.5281\nEpoch 6/8\n39/39 [==============================] - 3s 67ms/step - loss: 15562.8048\nEpoch 7/8\n39/39 [==============================] - 3s 65ms/step - loss: 15960.1273\nEpoch 8/8\n39/39 [==============================] - 2s 64ms/step - loss: 16065.9150\n"
                }
            ],
            "source": "history = regressor.fit(\n    x_train,\n    y_train,\n    epochs=8)"
        },
        {
            "cell_type": "code",
            "execution_count": null,
            "metadata": {},
            "outputs": [],
            "source": ""
        }
    ],
    "metadata": {
        "kernelspec": {
            "display_name": "Python 3.7",
            "language": "python",
            "name": "python3"
        },
        "language_info": {
            "codemirror_mode": {
                "name": "ipython",
                "version": 3
            },
            "file_extension": ".py",
            "mimetype": "text/x-python",
            "name": "python",
            "nbconvert_exporter": "python",
            "pygments_lexer": "ipython3",
            "version": "3.7.11"
        }
    },
    "nbformat": 4,
    "nbformat_minor": 1
}